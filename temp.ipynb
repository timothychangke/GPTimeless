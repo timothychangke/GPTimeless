{
 "cells": [
  {
   "cell_type": "code",
   "execution_count": 1,
   "id": "759207d6-7e5f-4ef2-a7cf-9b92ce2861f9",
   "metadata": {},
   "outputs": [
    {
     "name": "stderr",
     "output_type": "stream",
     "text": [
      "/Users/kimhyunbin/anaconda3/envs/machine_deep_learning/lib/python3.11/site-packages/spacy/util.py:910: UserWarning: [W095] Model 'en_core_med7_trf' (3.4.2.1) was trained with spaCy v3.4.2 and may not be 100% compatible with the current version (3.7.2). If you see errors or degraded performance, download a newer compatible model or retrain your custom model with the current spaCy version. For more details and available updates, run: python -m spacy validate\n",
      "  warnings.warn(warn_msg)\n",
      "  0%|          | 0/7 [00:00<?, ?it/s]"
     ]
    },
    {
     "name": "stdout",
     "output_type": "stream",
     "text": [
      "(Panadol, morphine)\n",
      "[('Panadol', 'DRUG'), ('morphine', 'DRUG')]\n"
     ]
    },
    {
     "name": "stderr",
     "output_type": "stream",
     "text": [
      "\n"
     ]
    }
   ],
   "source": [
    "#import boto3\n",
    "import json\n",
    "import spacy\n",
    "import pandas as pd\n",
    "import numpy as np\n",
    "from tqdm import tqdm\n",
    "import seaborn as sns\n",
    "\n",
    "\"\"\"\n",
    "Once the sentiment for the conversation reaches a certain negative limit, we can alert social workers who can take human action\n",
    "\"\"\"\n",
    "\n",
    "\"\"\"comprehend = boto3.client(service_name='comprehend', region_name='ap-southeast-1')\n",
    "\n",
    "sentiment_df = pd.DataFrame()\n",
    "positive_arr = []\n",
    "negative_arr = []\n",
    "\n",
    "for i in tqdm(range(7)):\n",
    "    f = open(f\"responses/responses_{i+1}.txt\", \"r\")\n",
    "    text = f.read()\n",
    "    # print(comprehend.detect_sentiment(Text=text, LanguageCode='en')['Sentiment'])\n",
    "    positive = comprehend.detect_sentiment(Text=text, LanguageCode='en')['SentimentScore']['Positive']\n",
    "    negative = comprehend.detect_sentiment(Text=text, LanguageCode='en')['SentimentScore']['Negative']\n",
    "    # print(f\"It is {positive*100:.2f}% positive and {negative*100:.2f}% negative\")\n",
    "    positive_arr.append(positive*100)\n",
    "    negative_arr.append(negative*100)\n",
    "\n",
    "sentiment_df['Positive'] = positive_arr\n",
    "sentiment_df['Negative']=negative_arr\n",
    "print(sentiment_df)\n",
    "\n",
    "plot = sns.histplot(data = sentiment_df, x = sentiment_df['Negative'])\n",
    "fig = plot.get_figure()\n",
    "fig.savefig(\"out.png\") \"\"\"\n",
    "\n",
    "\"\"\"\n",
    "We can also extract some medical data that could be in the conversation\n",
    "Would be able to extract out medical information such as drugs, dosage, duration and other relevant information such that\n",
    "it can provide succinct information to social workers or doctors so that they can take this into consideration to decide whether to \n",
    "intervene and take human action.\n",
    "The model would analyze the conversation line by line and only extract out medical information.\n",
    "\"\"\"\n",
    "\n",
    "med7 = spacy.load(\"en_core_med7_trf\")\n",
    "data_collected = []\n",
    "\n",
    "for i in tqdm(range(7)):\n",
    "    with open(f\"responses/responses_{i+1}.txt\", \"r\") as f:\n",
    "        last_line = f.read()\n",
    "    text = last_line\n",
    "    doc = med7(text)\n",
    "    print(doc.ents)\n",
    "    for ent in doc.ents:\n",
    "        if len(ent.text) != 0:\n",
    "            data_collected.append((ent.text, ent.label_))\n",
    "    break\n",
    "\n",
    "print(data_collected)"
   ]
  },
  {
   "cell_type": "code",
   "execution_count": 3,
   "id": "f6b3b94c",
   "metadata": {},
   "outputs": [],
   "source": [
    "from transformers import pipeline\n",
    "classifier = pipeline(\"text-classification\",model='bhadresh-savani/distilbert-base-uncased-emotion')"
   ]
  },
  {
   "cell_type": "code",
   "execution_count": 4,
   "id": "477876d7-104c-4b10-898b-1907be65af04",
   "metadata": {},
   "outputs": [
    {
     "name": "stderr",
     "output_type": "stream",
     "text": [
      "  0%|          | 0/7 [00:00<?, ?it/s]"
     ]
    },
    {
     "name": "stdout",
     "output_type": "stream",
     "text": [
      "[{'label': 'sadness', 'score': 0.9977586269378662}, {'label': 'fear', 'score': 0.0011000583181157708}, {'label': 'anger', 'score': 0.0006037884741090238}, {'label': 'joy', 'score': 0.00023600112763233483}, {'label': 'love', 'score': 0.0001656176900723949}, {'label': 'surprise', 'score': 0.0001359241286991164}]\n"
     ]
    },
    {
     "name": "stderr",
     "output_type": "stream",
     "text": [
      "\n"
     ]
    }
   ],
   "source": [
    "for i in tqdm(range(7)):\n",
    "    f = open(f\"responses/responses_{i+1}.txt\", \"r\")\n",
    "    text = f.read()\n",
    "    print(classifier(text,top_k=10))\n",
    "    res = classifier(text,top_k=10)\n",
    "    break"
   ]
  },
  {
   "cell_type": "code",
   "execution_count": 14,
   "id": "a6830477",
   "metadata": {},
   "outputs": [
    {
     "data": {
      "text/plain": [
       "{'sadness': 0.9977586269378662,\n",
       " 'fear': 0.0011000583181157708,\n",
       " 'anger': 0.0006037884741090238,\n",
       " 'joy': 0.00023600112763233483,\n",
       " 'love': 0.0001656176900723949,\n",
       " 'surprise': 0.0001359241286991164}"
      ]
     },
     "execution_count": 14,
     "metadata": {},
     "output_type": "execute_result"
    }
   ],
   "source": [
    "tmp = dict()\n",
    "for i in res:\n",
    "    tmp[i['label']] = i['score']\n",
    "tmp"
   ]
  }
 ],
 "metadata": {
  "kernelspec": {
   "display_name": "Python 3.11.7 ('machine_deep_learning')",
   "language": "python",
   "name": "python3"
  },
  "language_info": {
   "codemirror_mode": {
    "name": "ipython",
    "version": 3
   },
   "file_extension": ".py",
   "mimetype": "text/x-python",
   "name": "python",
   "nbconvert_exporter": "python",
   "pygments_lexer": "ipython3",
   "version": "3.11.7"
  },
  "vscode": {
   "interpreter": {
    "hash": "a01aa30e7cb9fc7776677534e11c9ab1eed0bfffb3501a39ef7b976f9557b493"
   }
  }
 },
 "nbformat": 4,
 "nbformat_minor": 5
}
